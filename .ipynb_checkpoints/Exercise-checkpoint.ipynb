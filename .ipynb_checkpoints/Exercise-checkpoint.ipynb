{
 "cells": [
  {
   "cell_type": "markdown",
   "id": "d735e967-ba84-4123-94f3-5c78e985959a",
   "metadata": {
    "tags": []
   },
   "source": [
    "# Load the book"
   ]
  },
  {
   "cell_type": "code",
   "execution_count": 59,
   "id": "f68a89c1-eaee-40dd-b38a-f49849b1f044",
   "metadata": {},
   "outputs": [],
   "source": [
    "with open(\"miracle_in_the_andes.txt\", \"r\") as file:\n",
    "    book = file.read()"
   ]
  },
  {
   "cell_type": "markdown",
   "id": "b5243932-c718-46dd-ae0c-1743205cf069",
   "metadata": {
    "tags": []
   },
   "source": [
    "# Extract the paragraphs where \"love\" was used"
   ]
  },
  {
   "cell_type": "code",
   "execution_count": 65,
   "id": "ca8810a9-b2aa-4128-88bf-249228aced12",
   "metadata": {},
   "outputs": [
    {
     "data": {
      "text/plain": [
       "['To me, this is the essence of rugby. No other sport gives you such an intense sense of selflessness and unified purpose. I believe this is why rugby players all over the world feel such a passion for the game and such a feeling of brotherhood. As a young man, of course, I could not put these things into words, but I knew, and my teammates knew, that there was something special about the game, and under the guidance of the Christian Brothers we developed a passionate love for the sport that shaped our friendships and our lives. For eight years we played our hearts out for the Christian Brothers—a brotherhood of young boys with Latin names, playing a game with deep Anglo roots under Uruguay’s sunny skies, and proudly wearing the bright green shamrock on our uniforms. The game became so much a part of our lives, in fact, that when we graduated from Stella Maris at the age of sixteen, many of us could not bear the thought that our playing days were over. Our salvation came in the form of the Old Christians Club, a private rugby team formed in 1965 by previous alumni of the Stella Maris rugby program to give Stella Maris ruggers a chance to continue playing the game after our school years ended.',\n",
       " 'There were others—Alexis Hounie, Gastón Costemalle, Daniel Shaw—all of them great players and all of them my friends. But my oldest friend was Guido Magri. He and I had met on my first day at the Stella Maris School—I was eight years old and Guido was one year older—and we had been inseparable ever since. Guido and I grew up together, playing soccer and sharing a love of motorcycles, cars, and auto racing. When I was fifteen we both had mopeds that we had modified in silly ways—removing the mufflers, turn signals, and fenders—and we would ride them to Las Delicias, a famous ice cream parlor in our neighborhood, where we would drool over the girls from the nearby School Sagrado Corazón, hoping to impress them with our souped-up scooters. Guido was a dependable friend, with a good sense of humor and an easy laugh. He was also an outstanding scrum half, as quick and smart as a fox, with good hands and great courage. Under the guidance of the Christian Brothers, both of us grew to love the game of rugby with a consuming passion. As seasons passed we worked hard to improve our skills, and by the time I was fifteen we had each earned a spot on the Stella Maris First XV, the team’s starting lineup. After graduation, both of us went on to join the Old Christians and spent several happy seasons pursuing the high-octane social life of young rugby players. That rowdiness came to an abrupt end for Guido in 1969, when he met and fell in love with the beautiful daughter of a Chilean diplomat. She was now his fiancée, and he was happy to behave himself for her sake.']"
      ]
     },
     "execution_count": 65,
     "metadata": {},
     "output_type": "execute_result"
    }
   ],
   "source": [
    "import re\n",
    "pattern = re.compile(\"[^\\n]+love[^\\n]+\")\n",
    "findings = re.findall(pattern, book)\n",
    "findings[:2]"
   ]
  },
  {
   "cell_type": "markdown",
   "id": "915a8c4a-771c-4ef2-83b7-90b44f20d6a1",
   "metadata": {
    "tags": []
   },
   "source": [
    "# Extract the chapter titles"
   ]
  },
  {
   "cell_type": "markdown",
   "id": "fbc8e759-3408-4f7e-b578-5b7d1b6cb521",
   "metadata": {},
   "source": [
    "### Method 1"
   ]
  },
  {
   "cell_type": "code",
   "execution_count": 68,
   "id": "43d03c68-d282-4ef4-be03-02fc5a654802",
   "metadata": {},
   "outputs": [
    {
     "data": {
      "text/plain": [
       "['Before',\n",
       " 'Everything Precious',\n",
       " 'A Promise',\n",
       " 'Breathe Once More',\n",
       " 'Abandoned',\n",
       " 'Tomb',\n",
       " 'East',\n",
       " 'The Opposite of Death',\n",
       " 'I See a Man',\n",
       " 'After']"
      ]
     },
     "execution_count": 68,
     "metadata": {},
     "output_type": "execute_result"
    }
   ],
   "source": [
    "import re\n",
    "pattern = re.compile(\"[a-zA-Z ,]+\\n\\n\")\n",
    "findings = re.findall(pattern, book)\n",
    "findings = [item.strip(\"\\n\\n\") for item in findings]\n",
    "findings"
   ]
  },
  {
   "cell_type": "markdown",
   "id": "afa77cc2-3459-4497-9207-9bd481083d71",
   "metadata": {},
   "source": [
    "### Method 2 - better option"
   ]
  },
  {
   "cell_type": "code",
   "execution_count": 56,
   "id": "e8f6f4d4-f18b-466c-9f66-d50a36908042",
   "metadata": {},
   "outputs": [
    {
     "data": {
      "text/plain": [
       "['Before',\n",
       " 'Everything Precious',\n",
       " 'A Promise',\n",
       " 'Breathe Once More',\n",
       " 'Abandoned',\n",
       " 'Tomb',\n",
       " 'East',\n",
       " 'The Opposite of Death',\n",
       " 'I See a Man',\n",
       " 'After']"
      ]
     },
     "execution_count": 56,
     "metadata": {},
     "output_type": "execute_result"
    }
   ],
   "source": [
    "import re\n",
    "pattern = re.compile(\"([a-zA-Z ]+)\\n\\n\")\n",
    "findings = re.findall(pattern, book)\n",
    "findings"
   ]
  },
  {
   "cell_type": "markdown",
   "id": "5adbca16-2971-434b-87a5-98913988ca40",
   "metadata": {
    "tags": []
   },
   "source": [
    "# Function that finds the occurrence of any word"
   ]
  },
  {
   "cell_type": "code",
   "execution_count": 57,
   "id": "e26bcfdd-9982-4c86-a845-2023577a643d",
   "metadata": {},
   "outputs": [],
   "source": [
    "def find(w):   \n",
    "    pattern = re.compile(\"[a-zA-Z]+\")  # any bunch of letters\n",
    "    findings = re.findall(pattern, book.lower())\n",
    "    d = {}\n",
    "    for word in findings:\n",
    "        if word in d.keys():\n",
    "            d[word] = d[word] + 1\n",
    "        else:\n",
    "            d[word] = 1\n",
    "    try:\n",
    "        return d[w]\n",
    "    except:\n",
    "        return f'The book does not contain the word \"{w}\"'"
   ]
  },
  {
   "cell_type": "markdown",
   "id": "80fd03d7-763a-4775-b10a-292bcd2c38a7",
   "metadata": {
    "tags": []
   },
   "source": [
    "# Call the function"
   ]
  },
  {
   "cell_type": "code",
   "execution_count": 63,
   "id": "303ac663-add5-455e-9a78-e46a30291b93",
   "metadata": {},
   "outputs": [
    {
     "data": {
      "text/plain": [
       "83"
      ]
     },
     "execution_count": 63,
     "metadata": {},
     "output_type": "execute_result"
    }
   ],
   "source": [
    "find(\"love\")"
   ]
  },
  {
   "cell_type": "code",
   "execution_count": 58,
   "id": "0fa931b6-60c3-44d0-9206-6b8f01bb4d05",
   "metadata": {},
   "outputs": [
    {
     "data": {
      "text/plain": [
       "'The book does not contain the word \"hate\"'"
      ]
     },
     "execution_count": 58,
     "metadata": {},
     "output_type": "execute_result"
    }
   ],
   "source": [
    "find(\"hate\")"
   ]
  }
 ],
 "metadata": {
  "kernelspec": {
   "display_name": "Python 3 (ipykernel)",
   "language": "python",
   "name": "python3"
  },
  "language_info": {
   "codemirror_mode": {
    "name": "ipython",
    "version": 3
   },
   "file_extension": ".py",
   "mimetype": "text/x-python",
   "name": "python",
   "nbconvert_exporter": "python",
   "pygments_lexer": "ipython3",
   "version": "3.12.2"
  }
 },
 "nbformat": 4,
 "nbformat_minor": 5
}
