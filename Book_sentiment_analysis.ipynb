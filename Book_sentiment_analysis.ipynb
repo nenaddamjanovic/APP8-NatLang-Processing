{
 "cells": [
  {
   "cell_type": "markdown",
   "id": "a96f640f-a288-4bc1-8415-8344817f8d8b",
   "metadata": {},
   "source": [
    "## Opening the book"
   ]
  },
  {
   "cell_type": "code",
   "execution_count": 1,
   "id": "31775da1-f034-4c56-be56-09909f34b359",
   "metadata": {},
   "outputs": [],
   "source": [
    "with open(\"miracle_in_the_andes.txt\", \"r\", encoding=\"utf-8\") as file:\n",
    "    book = file.read()"
   ]
  },
  {
   "cell_type": "markdown",
   "id": "ef3bba29-f9f4-4022-bdf9-6274cc8fb880",
   "metadata": {},
   "source": [
    "## The most used words (non-articles)"
   ]
  },
  {
   "cell_type": "code",
   "execution_count": 2,
   "id": "196a78b6-6e16-4057-b3e2-b9c641de8b89",
   "metadata": {},
   "outputs": [
    {
     "data": {
      "text/plain": [
       "86798"
      ]
     },
     "execution_count": 2,
     "metadata": {},
     "output_type": "execute_result"
    }
   ],
   "source": [
    "import re\n",
    "pattern = re.compile(\"[a-zA-Z]+\")\n",
    "finding = re.findall(pattern, book.lower())\n",
    "len(finding)"
   ]
  },
  {
   "cell_type": "code",
   "execution_count": 3,
   "id": "0a6bed97-b4e2-4013-8fe8-05c2a5f7fe65",
   "metadata": {},
   "outputs": [
    {
     "data": {
      "text/plain": [
       "['chapter',\n",
       " 'before',\n",
       " 'it',\n",
       " 'was',\n",
       " 'friday',\n",
       " 'the',\n",
       " 'thirteenth',\n",
       " 'of',\n",
       " 'october',\n",
       " 'we']"
      ]
     },
     "execution_count": 3,
     "metadata": {},
     "output_type": "execute_result"
    }
   ],
   "source": [
    "finding[:10]"
   ]
  },
  {
   "cell_type": "markdown",
   "id": "7f1819f0-b0b7-44c4-99c1-0d7dcae33260",
   "metadata": {},
   "source": [
    "#### constructing dictionary"
   ]
  },
  {
   "cell_type": "code",
   "execution_count": 4,
   "id": "a00aaf3f-0584-4d29-97cd-e2d9092b9bf2",
   "metadata": {},
   "outputs": [],
   "source": [
    "d = {}\n",
    "for word in finding:\n",
    "    if word in d.keys():\n",
    "        d[word] = d[word] + 1\n",
    "    else:\n",
    "        d[word] = 1"
   ]
  },
  {
   "cell_type": "markdown",
   "id": "110fe6cb-40db-4ee3-a227-bd60864ea725",
   "metadata": {},
   "source": [
    "#### Making dictionary with number before word, then sorting"
   ]
  },
  {
   "cell_type": "code",
   "execution_count": 5,
   "id": "217b5b2e-d681-4615-b9ab-fd1b738da98c",
   "metadata": {},
   "outputs": [
    {
     "data": {
      "text/plain": [
       "[(5346, 'the'),\n",
       " (2795, 'and'),\n",
       " (2729, 'i'),\n",
       " (2400, 'to'),\n",
       " (2060, 'of'),\n",
       " (1566, 'a'),\n",
       " (1430, 'was'),\n",
       " (1419, 'in'),\n",
       " (1226, 'we'),\n",
       " (1169, 'my'),\n",
       " (1001, 'that'),\n",
       " (946, 'he'),\n",
       " (941, 'had'),\n",
       " (800, 'it'),\n",
       " (705, 'for')]"
      ]
     },
     "execution_count": 5,
     "metadata": {},
     "output_type": "execute_result"
    }
   ],
   "source": [
    "d_list = [(value, key) for (key, value) in d.items()]\n",
    "d_list = sorted(d_list, reverse = True)\n",
    "sorted(d_list, reverse = True)[:15]"
   ]
  },
  {
   "cell_type": "markdown",
   "id": "f8875f61-9a9c-4b8e-ab96-bd75a21f8c92",
   "metadata": {},
   "source": [
    "## installing nltk and import"
   ]
  },
  {
   "cell_type": "code",
   "execution_count": 6,
   "id": "041b850e-c2b9-477b-a382-61d4726c2765",
   "metadata": {},
   "outputs": [
    {
     "data": {
      "text/plain": [
       "'3.12.2'"
      ]
     },
     "execution_count": 6,
     "metadata": {},
     "output_type": "execute_result"
    }
   ],
   "source": [
    "from platform import python_version\n",
    "python_version()"
   ]
  },
  {
   "cell_type": "code",
   "execution_count": 7,
   "id": "8b403eba-3b98-4a15-ae9d-6026550f612d",
   "metadata": {},
   "outputs": [
    {
     "name": "stderr",
     "output_type": "stream",
     "text": [
      "[nltk_data] Downloading package stopwords to\n",
      "[nltk_data]     C:\\Users\\Nenad\\AppData\\Roaming\\nltk_data...\n",
      "[nltk_data]   Package stopwords is already up-to-date!\n"
     ]
    }
   ],
   "source": [
    "import nltk\n",
    "nltk.download(\"stopwords\")\n",
    "from nltk.corpus import stopwords"
   ]
  },
  {
   "cell_type": "markdown",
   "id": "ada88a08-c38b-4630-98ab-f87ff5f4b9b5",
   "metadata": {},
   "source": [
    "#### seting up english stopwords (that mean nothing on it own)"
   ]
  },
  {
   "cell_type": "code",
   "execution_count": 10,
   "id": "4c7138f5-0197-4601-98c2-5755bdd703fb",
   "metadata": {},
   "outputs": [],
   "source": [
    "english_stopwords = stopwords.words(\"english\")"
   ]
  },
  {
   "cell_type": "code",
   "execution_count": 12,
   "id": "9e53d39c-7a8c-4f87-8b0e-28d4c75b4b76",
   "metadata": {},
   "outputs": [],
   "source": [
    "# english_stopwords"
   ]
  },
  {
   "cell_type": "markdown",
   "id": "e58b18b0-2768-4a97-9674-3c6f8a6ebd3e",
   "metadata": {},
   "source": [
    "#### Filtering out stopwords from all words count in book"
   ]
  },
  {
   "cell_type": "code",
   "execution_count": 13,
   "id": "0d256290-294e-439c-81c3-16fb7e1350fb",
   "metadata": {},
   "outputs": [
    {
     "data": {
      "text/plain": [
       "[('would', 575),\n",
       " ('us', 519),\n",
       " ('said', 292),\n",
       " ('roberto', 284),\n",
       " ('could', 252),\n",
       " ('one', 249),\n",
       " ('snow', 227),\n",
       " ('mountain', 183),\n",
       " ('time', 182),\n",
       " ('like', 165),\n",
       " ('way', 164),\n",
       " ('life', 161),\n",
       " ('knew', 155),\n",
       " ('mountains', 147),\n",
       " ('fuselage', 140),\n",
       " ('still', 137),\n",
       " ('felt', 127),\n",
       " ('father', 127),\n",
       " ('others', 126),\n",
       " ('found', 126)]"
      ]
     },
     "execution_count": 13,
     "metadata": {},
     "output_type": "execute_result"
    }
   ],
   "source": [
    "filtered_words = []\n",
    "for count, word in d_list:\n",
    "    if word not in english_stopwords:\n",
    "        filtered_words.append((word, count))\n",
    "filtered_words[:20]"
   ]
  },
  {
   "cell_type": "markdown",
   "id": "e410599a-c611-4dc0-9e2b-e85f5babb915",
   "metadata": {},
   "source": [
    "## Sentiment analysis, most positive/negative chapter"
   ]
  },
  {
   "cell_type": "code",
   "execution_count": 30,
   "id": "84bfcc3b-0382-4b6a-b303-dbb610b3ed91",
   "metadata": {},
   "outputs": [
    {
     "name": "stderr",
     "output_type": "stream",
     "text": [
      "[nltk_data] Downloading package vader_lexicon to\n",
      "[nltk_data]     C:\\Users\\Nenad\\AppData\\Roaming\\nltk_data...\n",
      "[nltk_data]   Package vader_lexicon is already up-to-date!\n"
     ]
    }
   ],
   "source": [
    "from nltk.sentiment import SentimentIntensityAnalyzer\n",
    "nltk.download('vader_lexicon');"
   ]
  },
  {
   "cell_type": "code",
   "execution_count": 34,
   "id": "a110ab29-95f3-4390-99cc-eaac795e47cc",
   "metadata": {},
   "outputs": [],
   "source": [
    "analyzer = SentimentIntensityAnalyzer()"
   ]
  },
  {
   "cell_type": "code",
   "execution_count": 35,
   "id": "12cd163b-d0a1-4ece-abd3-1eb1dd753f2d",
   "metadata": {},
   "outputs": [
    {
     "data": {
      "text/plain": [
       "nltk.sentiment.vader.SentimentIntensityAnalyzer"
      ]
     },
     "execution_count": 35,
     "metadata": {},
     "output_type": "execute_result"
    }
   ],
   "source": [
    "analyzer\n",
    "nltk.sentiment.vader.SentimentIntensityAnalyzer"
   ]
  },
  {
   "cell_type": "code",
   "execution_count": 36,
   "id": "e4abb88a-6e2c-46a9-b63c-c5a6894832f6",
   "metadata": {},
   "outputs": [],
   "source": [
    "scores = analyzer.polarity_scores(\"Hey, look how beautiful the trees are.  I love them.\")"
   ]
  },
  {
   "cell_type": "code",
   "execution_count": 37,
   "id": "b9eb94ca-5304-4a28-b6fa-d91e1034af05",
   "metadata": {},
   "outputs": [
    {
     "data": {
      "text/plain": [
       "{'neg': 0.0, 'neu': 0.464, 'pos': 0.536, 'compound': 0.8442}"
      ]
     },
     "execution_count": 37,
     "metadata": {},
     "output_type": "execute_result"
    }
   ],
   "source": [
    "scores"
   ]
  },
  {
   "cell_type": "code",
   "execution_count": 38,
   "id": "caff268a-5988-4a4e-9056-6af7014fbd3f",
   "metadata": {},
   "outputs": [
    {
     "name": "stdout",
     "output_type": "stream",
     "text": [
      "It is a positive text\n"
     ]
    }
   ],
   "source": [
    "if scores[\"pos\"] > scores[\"neg\"]:\n",
    "    print(\"It is a positive text\")\n",
    "else:\n",
    "    print(\"It is a negative text\")"
   ]
  },
  {
   "cell_type": "markdown",
   "id": "a7851089-7e9f-45a5-b01c-5e46addedaa2",
   "metadata": {},
   "source": [
    "## Chapters sentiment analysis"
   ]
  },
  {
   "cell_type": "code",
   "execution_count": 40,
   "id": "48d654f5-00b7-4310-8797-447c6baf494b",
   "metadata": {},
   "outputs": [],
   "source": [
    "import re\n",
    "pattern = re.compile(\"Chapter [0-9]+\")\n",
    "chapters = re.split(pattern, book)"
   ]
  },
  {
   "cell_type": "code",
   "execution_count": 43,
   "id": "30467e3c-1ea0-479d-b317-7bc1c5e9897f",
   "metadata": {},
   "outputs": [],
   "source": [
    "chapters = chapters[1:]"
   ]
  },
  {
   "cell_type": "code",
   "execution_count": 47,
   "id": "d85e6aaa-42d7-4791-a9dd-11e67654c847",
   "metadata": {},
   "outputs": [
    {
     "name": "stdout",
     "output_type": "stream",
     "text": [
      "0 {'neg': 0.061, 'neu': 0.779, 'pos': 0.16, 'compound': 1.0}\n",
      "1 {'neg': 0.12, 'neu': 0.726, 'pos': 0.154, 'compound': 0.9991}\n",
      "2 {'neg': 0.145, 'neu': 0.751, 'pos': 0.105, 'compound': -0.9999}\n",
      "3 {'neg': 0.141, 'neu': 0.721, 'pos': 0.138, 'compound': -0.9963}\n",
      "4 {'neg': 0.118, 'neu': 0.742, 'pos': 0.141, 'compound': 0.9997}\n",
      "5 {'neg': 0.124, 'neu': 0.761, 'pos': 0.115, 'compound': -0.9979}\n",
      "6 {'neg': 0.136, 'neu': 0.761, 'pos': 0.103, 'compound': -0.9999}\n",
      "7 {'neg': 0.12, 'neu': 0.786, 'pos': 0.094, 'compound': -0.9998}\n",
      "8 {'neg': 0.097, 'neu': 0.824, 'pos': 0.079, 'compound': -0.9996}\n",
      "9 {'neg': 0.086, 'neu': 0.733, 'pos': 0.181, 'compound': 1.0}\n"
     ]
    }
   ],
   "source": [
    "for nr, chapter in enumerate(chapters):\n",
    "    scores = analyzer.polarity_scores(chapter)\n",
    "    print(nr, scores)"
   ]
  }
 ],
 "metadata": {
  "kernelspec": {
   "display_name": "Python 3 (ipykernel)",
   "language": "python",
   "name": "python3"
  },
  "language_info": {
   "codemirror_mode": {
    "name": "ipython",
    "version": 3
   },
   "file_extension": ".py",
   "mimetype": "text/x-python",
   "name": "python",
   "nbconvert_exporter": "python",
   "pygments_lexer": "ipython3",
   "version": "3.12.2"
  }
 },
 "nbformat": 4,
 "nbformat_minor": 5
}
